{
 "cells": [
  {
   "cell_type": "markdown",
   "metadata": {},
   "source": [
    "# Earth-Moon System\n",
    "\n",
    "This adds self consistent spin, tidal and dynamical equations of motion in the equilibrium tide model as outlined by Eggleton et. al (1998). See Lu et. al (in review) for specific details of the implementation. In this simple example we investigate the behavior of the Earth-Moon system\n",
    "\n",
    "This is a much simplified version of a complex problem. The primary simplification made is only the Earth-Moon system itself is considered - of course, the effects of the Sun are highly significant, but not considered in this simple example. Therefore, many of the exact numeric results in this notebook are not precisely accurate - the goal of this example is to show that the qualitative behavior of the system is well-produced. For more in-depth explorations of the Earth-Moon system, please see, e.g., Ward (1975), Touma & Wisdom (1994) and Wisdom (2007), among others."
   ]
  },
  {
   "cell_type": "code",
   "execution_count": 1,
   "metadata": {},
   "outputs": [],
   "source": [
    "import rebound\n",
    "import reboundx\n",
    "import numpy as np\n",
    "import matplotlib.pyplot as plt\n",
    "%matplotlib inline"
   ]
  },
  {
   "cell_type": "markdown",
   "metadata": {},
   "source": [
    "First, definition of the physical parameters we'll need. Parameters are taken from\n",
    "https://nssdc.gsfc.nasa.gov/planetary/factsheet/moonfact.html. We are working in default REBOUND units: mass in units of solar masses, distance in units of AU, and time in units of $2 \\pi$ years"
   ]
  },
  {
   "cell_type": "code",
   "execution_count": 2,
   "metadata": {},
   "outputs": [],
   "source": [
    "m_earth = 3e-6\n",
    "r_earth = 4.259e-5\n",
    "k2_earth = 0.298\n",
    "c_earth = 0.3308 # Dimensionless moment of inertia, normalized by MR^2\n",
    "\n",
    "m_moon = 3.6943e-8\n",
    "r_moon = 1.161e-5\n",
    "k2_moon = 0.239\n",
    "c_moon = 0.394\n",
    "inc_moon = np.radians(5.14)\n",
    "Omega_moon = np.radians(0)"
   ]
  },
  {
   "cell_type": "markdown",
   "metadata": {},
   "source": [
    "First, the present-day orbital parameters of the Earth-Moon System"
   ]
  },
  {
   "cell_type": "code",
   "execution_count": 3,
   "metadata": {},
   "outputs": [],
   "source": [
    "sim = rebound.Simulation()\n",
    "ps = sim.particles\n",
    "\n",
    "Earth = rebound.Particle(simulation = sim, m=m_earth, r=r_earth, hash=\"Earth\")\n",
    "sim.add(Earth)\n",
    "\n",
    "Moon = rebound.Particle(simulation = sim, primary = ps[\"Earth\"], m=m_moon, r=r_moon, \n",
    "                        a=0.002572, e=0.0549, inc = inc_moon, Omega = Omega_moon, hash=\"Moon\")\n",
    "sim.add(Moon)"
   ]
  },
  {
   "cell_type": "markdown",
   "metadata": {},
   "source": [
    "Now, we add the extra parameters necessary to calculate the spin and tidal effects. Let's first set the Love number, moment of inertia, and spin vector. The positions of the spin axes are set to their present-day values"
   ]
  },
  {
   "cell_type": "code",
   "execution_count": 4,
   "metadata": {},
   "outputs": [],
   "source": [
    "rebx = reboundx.Extras(sim)\n",
    "ts = rebx.load_force(\"tides_spin\")\n",
    "rebx.add_force(ts)\n",
    "\n",
    "ps[\"Earth\"].params['k2'] = k2_earth\n",
    "ps[\"Earth\"].params['I'] = c_earth * m_earth * r_earth**2\n",
    "\n",
    "spin_period_earth = (1 / 365.26) * 2 * np.pi # 1 day in default REBOUND units\n",
    "spin_mag_earth = 2 * np.pi / spin_period_earth\n",
    "obl_earth = np.radians(23.44)\n",
    "ps[\"Earth\"].params['Omega'] = [0., spin_mag_earth * np.sin(obl_earth), spin_mag_earth * np.cos(obl_earth)]\n",
    "\n",
    "ps[\"Moon\"].params['k2'] = k2_moon\n",
    "ps[\"Moon\"].params['I'] = c_moon * m_moon * r_moon**2\n",
    "\n",
    "spin_period_moon = ps[\"Moon\"].P # assume synchronous rotation\n",
    "spin_mag_moon = 2 * np.pi / spin_period_moon\n",
    "obl_moon = np.radians(1.54) # angle between ecliptic normal and moon's spin vector\n",
    "ps[\"Moon\"].params['Omega'] = [0., spin_mag_moon * np.sin(obl_moon), spin_mag_moon * np.cos(obl_moon)]"
   ]
  },
  {
   "cell_type": "markdown",
   "metadata": {},
   "source": [
    "Finally, we can set the constant time lag $\\tau$, which sets the rate of tidal dissipation. Often, tidal dissipation is also parametrized in terms of the tidal quality factor Q. These are simply related for the particular case of synchronized, circular orbits (see Section 2 of Lu et. al (2023) for more discussion), in which case\n",
    "\n",
    "$Q^{-1} \\sim 2 n \\tau$\n",
    "\n",
    "where $n$ is the mean motion of the moon around the Earth (for both the lunar and Earth Q)"
   ]
  },
  {
   "cell_type": "code",
   "execution_count": 5,
   "metadata": {},
   "outputs": [],
   "source": [
    "Earth_Q = 280\n",
    "Moon_Q = 37.5\n",
    "ps[\"Earth\"].params['tau'] = 1 / (2 * Earth_Q * ps[\"Moon\"].n)\n",
    "ps[\"Moon\"].params['tau'] = 1 / (2 * Moon_Q * ps[\"Moon\"].n)"
   ]
  },
  {
   "cell_type": "markdown",
   "metadata": {},
   "source": [
    "Some bookkeeping before we begin integrating the system: choosing an integrator, moving to the CoM, and aligning the system to the invariant plane (which aligns the spins as well as the orbits of the bodies)"
   ]
  },
  {
   "cell_type": "code",
   "execution_count": 6,
   "metadata": {},
   "outputs": [],
   "source": [
    "sim.integrator = \"whfast\"\n",
    "sim.dt = ps[\"Moon\"].P/10.1234567 # timestep is a fraction of the orbital period\n",
    "sim.move_to_com() # Move to CoM\n",
    "\n",
    "rot = rebound.Rotation.to_new_axes(newz=rebx.calculate_total_angular_momentum()) # Alignment to invariant plane\n",
    "rebx.rotate_simulation(rot)"
   ]
  },
  {
   "cell_type": "markdown",
   "metadata": {},
   "source": [
    "The next step is mandatory: to track the evolution of the spin axis, you MUST call the function `initialize_spin_ode`. Otherwise the spin axis will remain stationary and you won't see anything interesting! Call this function after all parameters have been set and all rotations and frame changes are complete."
   ]
  },
  {
   "cell_type": "code",
   "execution_count": 7,
   "metadata": {},
   "outputs": [],
   "source": [
    "rebx.initialize_spin_ode(ts)"
   ]
  },
  {
   "cell_type": "markdown",
   "metadata": {},
   "source": [
    "Now, we integrate. We track the spin axis of the moon and Earth, as well as a few key orbital parameters.\n",
    "\n",
    "Note that both spin axes have been tracked in the inertial reference frame, which we have aligned with the invariant plane of the system. It is often much more useful to calculate the spin vector relative to the body's orbit normal. In this case we care about the moon's orbit normal, which we find with `ps[\"Moon\"].hvec`. Here we'll interpret the results in this frame."
   ]
  },
  {
   "cell_type": "code",
   "execution_count": null,
   "metadata": {},
   "outputs": [],
   "source": [
    "%%time\n",
    "Nout = 10000\n",
    "tmax = 2e6 # REBOUND time units\n",
    "times = np.linspace(0, tmax, Nout) \n",
    "\n",
    "lunar_a = np.zeros(Nout)\n",
    "lunar_orbit_period = np.zeros(Nout)\n",
    "\n",
    "lunar_sv_hat = np.zeros((Nout, 3))\n",
    "lunar_spin_mag = np.zeros(Nout)\n",
    "lunar_obliquity = np.zeros(Nout)\n",
    "lunar_phase = np.zeros(Nout)\n",
    "\n",
    "earth_sv = np.zeros((Nout, 3))\n",
    "\n",
    "for i, t in enumerate(times):\n",
    "    # Orbital Parameters\n",
    "    lunar_a[i] = ps[\"Moon\"].a\n",
    "    lunar_orbit_period[i] = ps[\"Moon\"].P\n",
    "    \n",
    "    # Lunar spin vector\n",
    "    lunar_spin_axis_inv = ps[\"Moon\"].params['Omega'] # Initially invarant frame\n",
    "    \n",
    "    lunar_orbit_normal = ps[\"Moon\"].hvec\n",
    "    rot_to_orbit_frame = rebound.Rotation.to_new_axes(newz=lunar_orbit_normal)\n",
    "    lunar_spin_axis_orb = rot_to_orbit_frame * lunar_spin_axis_inv # Now in the Moon's orbit frame\n",
    "    \n",
    "    # We save the unit lunar spin vector\n",
    "    lunar_sv_hat[i] = lunar_spin_axis_orb / np.linalg.norm(lunar_spin_axis_orb)\n",
    "    \n",
    "    # We can also interpret the spin axis in the more natural spherical coordinates\n",
    "    mag, obliquity, phase = rebound.xyz_to_spherical(lunar_spin_axis_orb)\n",
    "    \n",
    "    lunar_spin_mag[i] = mag\n",
    "    lunar_obliquity[i] = np.degrees(obliquity)\n",
    "    lunar_phase[i] = np.degrees(phase)\n",
    "    \n",
    "    # Earth spin vector\n",
    "    # We will only concern ourselves with the Earth's spin period, so we only track the magnitude\n",
    "    # Since the magnitude of the spin vector is invariant across frames, no transformations necessary\n",
    "    earth_sv[i] = ps[\"Earth\"].params['Omega']\n",
    "    \n",
    "    sim.integrate(t)"
   ]
  },
  {
   "cell_type": "markdown",
   "metadata": {},
   "source": [
    "First, we verify the position of the lunar spin axis. The Moon's spin axis currently lies in an equilibrium configuration known as a \"Cassini State\" - in the frame aligned with the lunar orbit normal we have adopted, the spin axis will appear stationary. \n",
    "\n",
    "While the precise parameters initially chosen represent the Moon's present-day spin-axis configuration, since the effects of the Sun are not accounted for the equilibrium value is slightly different. However, this ultimately doesn't matter: another prediction (see Ward 1975) is the spin vector, if displaced, rapidly evolves towards this equilibrium state. Below a polar view evolution of the unit lunar spin axis is plotted:"
   ]
  },
  {
   "cell_type": "code",
   "execution_count": null,
   "metadata": {},
   "outputs": [],
   "source": [
    "times_rescaled = times / (1000 * 2 * np.pi) # this converts from REBOUND time units to kyr\n",
    "orbit_normal = np.array([0, 0, 1]) # Recall the z-axis is aligned with the orbit normal\n",
    "\n",
    "plt.figure(figsize=(10,10))\n",
    "plt.scatter(lunar_sv_hat[:,0], lunar_sv_hat[:,1], s=5, label = 'Spin Axis', c = times_rescaled)\n",
    "\n",
    "\n",
    "plt.plot(orbit_normal[0], orbit_normal[1], marker='*', label='Orbit Normal', color ='red', markersize=10, ls = ' ')\n",
    "plt.xlabel(r'$\\hat{s}_x$')\n",
    "plt.xlabel(r'$\\hat{s}_y$')\n",
    "plt.legend()\n",
    "plt.colorbar(label=\"Time (kyr)\")"
   ]
  },
  {
   "cell_type": "markdown",
   "metadata": {},
   "source": [
    "We see that the spin axis rapidly evolves towards Cassini State 2, at which point it appears stationary. \n",
    "\n",
    "We can further verify by plotting a few other representative quantities. Other predictions include:\n",
    "\n",
    "- The gradual increase of the lunar semimajor axis\n",
    "- A near-match between the lunar spin and orbital periods (characteristic of tidal locking)\n",
    "- A slow spin-down of the Earth's rotation\n",
    "- The lunar obliquity (the angle between its spin axis and orbit normal) rapidly evolving to a small value, and thereafter remaining constant."
   ]
  },
  {
   "cell_type": "code",
   "execution_count": null,
   "metadata": {},
   "outputs": [],
   "source": [
    "# Rescale orbital periods to days\n",
    "lunar_orbit_period /= (2 * np.pi) * 365.26\n",
    "\n",
    "lunar_spin_period = 2 * np.pi / lunar_spin_mag / (2 * np.pi) * 365.26\n",
    "earth_spin_period = (2 * np.pi / np.linalg.norm(earth_sv, axis=1)) / (2 * np.pi) * 365.26\n",
    "\n",
    "fig, ax = plt.subplots(2, 2,figsize=(15,10))\n",
    "ax = ax.ravel()\n",
    "\n",
    "ax[0].plot(times_rescaled, lunar_a)\n",
    "ax[0].set_ylabel('Lunar Semimajor Axis (AU)')\n",
    "\n",
    "ax[1].plot(times_rescaled, lunar_orbit_period, label = 'Lunar Orbital Period')\n",
    "ax[1].plot(times_rescaled, lunar_spin_period, label = 'Lunar Spin Period')\n",
    "ax[1].set_ylabel('Lunar Periods')\n",
    "ax[1].legend()\n",
    "\n",
    "ax[2].plot(times_rescaled, earth_spin_period)\n",
    "ax[2].set_ylabel('Earth Spin Period')\n",
    "ax[2].set_xlabel('Time (kyr)')\n",
    "\n",
    "ax[3].plot(times_rescaled, lunar_obliquity)\n",
    "ax[3].set_xlabel('Time (kyr)')\n",
    "ax[3].set_ylabel(r'Lunar Obliquity $\\theta [^\\circ]$')"
   ]
  },
  {
   "cell_type": "markdown",
   "metadata": {},
   "source": [
    "We see that the qualitative expected behavior is seen in all cases!"
   ]
  },
  {
   "cell_type": "code",
   "execution_count": null,
   "metadata": {},
   "outputs": [],
   "source": []
  }
 ],
 "metadata": {
  "kernelspec": {
   "display_name": "Python 3 (ipykernel)",
   "language": "python",
   "name": "python3"
  },
  "language_info": {
   "codemirror_mode": {
    "name": "ipython",
    "version": 3
   },
   "file_extension": ".py",
   "mimetype": "text/x-python",
   "name": "python",
   "nbconvert_exporter": "python",
   "pygments_lexer": "ipython3",
   "version": "3.10.4"
  }
 },
 "nbformat": 4,
 "nbformat_minor": 2
}
