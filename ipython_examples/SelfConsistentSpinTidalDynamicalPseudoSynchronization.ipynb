{
 "cells": [
  {
   "cell_type": "markdown",
   "metadata": {},
   "source": [
    "# Pseudo-Synchronization\n",
    "\n",
    "This adds self consistent spin, tidal and dynamical equations of motion in the equilibrium tide model as outlined by Eggleton et. al (1998). In this simple example we confirm the prediction of pseudo-synchronization for a fiducial hot Jupiter. This example can be seen in Millholland & Laughlin (2019) and is Figure 2 in Lu et al. (2023)."
   ]
  },
  {
   "cell_type": "code",
   "execution_count": 1,
   "metadata": {},
   "outputs": [],
   "source": [
    "import rebound\n",
    "import reboundx\n",
    "import numpy as np\n",
    "import matplotlib.pyplot as plt\n",
    "%matplotlib inline"
   ]
  },
  {
   "cell_type": "markdown",
   "metadata": {},
   "source": [
    "We'll set up the system in the traditional REBOUND framework first. We set up a fiducial hot Jupiter in a near-circular orbit around a solar-type star"
   ]
  },
  {
   "cell_type": "code",
   "execution_count": 2,
   "metadata": {},
   "outputs": [],
   "source": [
    "sim = rebound.Simulation()\n",
    "# Star\n",
    "ms = 1\n",
    "rs = 0.00465\n",
    "sim.add(m = ms, r = rs)\n",
    "\n",
    "# Planet\n",
    "mp = 9.55e-4\n",
    "rp = 4.676e-4\n",
    "ap = 0.04072\n",
    "ep = 0.01\n",
    "sim.add(m = mp, r = rp, a = ap, e = ep)\n",
    "ps = sim.particles"
   ]
  },
  {
   "cell_type": "markdown",
   "metadata": {},
   "source": [
    "Now, we add the extra parameters necessary to calculate the spin and tidal effects. Let's first set the Love number, moment of inertia, and spin vector. In this simulation both bodies have structure."
   ]
  },
  {
   "cell_type": "code",
   "execution_count": 3,
   "metadata": {},
   "outputs": [],
   "source": [
    "rebx = reboundx.Extras(sim)\n",
    "sf = rebx.load_force(\"spin\")\n",
    "rebx.add_force(sf)\n",
    "\n",
    "# Star parameters\n",
    "ps[0].params['k2'] = 0.07\n",
    "ps[0].params['moi'] = 0.07 * ms * rs**2\n",
    "# The magnitude of the spin axis is the spin frequency. We initialize the star's obliquity as 0\n",
    "spin_period_star = (27 / 365) * 2 * np.pi # 27 days in default REBOUND units\n",
    "spin_mag_star = 2 * np.pi / spin_period_star\n",
    "ps[0].params['spin_sx'] = 0 \n",
    "ps[0].params['spin_sy'] = 0\n",
    "ps[0].params['spin_sz'] = spin_mag_star\n",
    "\n",
    "# Planet parameters\n",
    "ps[1].params['k2'] = 0.3\n",
    "ps[1].params['moi'] = 0.25 * mp * rp**2\n",
    "# Initialize the planet's obliquity to 30 degrees\n",
    "spin_period_planet = (0.5 / 365) * 2 * np.pi # 0.5 days in default REBOUND units\n",
    "spin_mag_planet = 2 * np.pi / spin_period_planet\n",
    "obliquity_planet = np.radians(30)\n",
    "phi_planet = 0\n",
    "ps[1].params['spin_sx'] = spin_mag_planet * np.sin(obliquity_planet) * np.sin(phi_planet)\n",
    "ps[1].params['spin_sy'] = spin_mag_planet * np.sin(obliquity_planet) * np.cos(phi_planet)\n",
    "ps[1].params['spin_sz'] = spin_mag_planet * np.cos(obliquity_planet)"
   ]
  },
  {
   "cell_type": "markdown",
   "metadata": {},
   "source": [
    "We saved the tidal dissipation parameter $\\sigma$ for last because there are a few different ways to set it. $\\sigma$ may be set traditionally, but this parameter is not widely adopted. We can relate $\\sigma$ to two more traditionally used quantities: the time lag $\\tau$ and the tidal quality factor $Q$. \n",
    "\n",
    "Specifically, the relations are:\n",
    "\n",
    "$\\tau = \\frac{3 \\sigma r^5}{4G} k_2$, $Q^{-1} \\sim 2 n \\tau$\n",
    "\n",
    "The first relation is always valid, while the second is only strictly valid for synchronized circular orbits (see Section 2 of Lu et. al (2023) for more discussion regarding these approximations)."
   ]
  },
  {
   "cell_type": "code",
   "execution_count": 4,
   "metadata": {},
   "outputs": [],
   "source": [
    "# All three expressions below are equivalent in our framework\n",
    "# Star Q\n",
    "stellar_q = 1e6\n",
    "stellar_tau = 1 / (2 * stellar_q * ps[1].n)\n",
    "stellar_sigma = 4 * sim.G * stellar_tau / (3 * ps[0].r**5 * ps[0].params['k2'])\n",
    "\n",
    "# Planet Q\n",
    "planet_q = 1e4\n",
    "planet_tau = 1 / (2 * planet_q * ps[1].n)\n",
    "planet_sigma = 4 * sim.G * planet_tau / (3 * ps[1].r**5 * ps[1].params['k2'])"
   ]
  },
  {
   "cell_type": "markdown",
   "metadata": {},
   "source": [
    "We have provided two helper functions that will set the desired value of $\\sigma$ given an input $Q$ or $\\tau$. While setting $\\sigma$ traditionally has no restrictions, to use the helper functions all other relevant quantities must be set already. Therefore, call these LAST."
   ]
  },
  {
   "cell_type": "code",
   "execution_count": 5,
   "metadata": {},
   "outputs": [],
   "source": [
    "# Setting sigma for the star: all three of these functions do the same thing\n",
    "'''\n",
    "set_q takes in as arguments, in order: \n",
    "the G value, the particle you wish to set sigma for, the perturbing particle, and the tidal Q\n",
    "'''\n",
    "rebx.set_q(sim.G, ps[0], ps[1], stellar_q)\n",
    "# rebx.set_time_lag(sim.G, ps[0], stellar_tau)\n",
    "# ps[0].params['sigma'] = stellar_sigma\n",
    "\n",
    "# For the planet\n",
    "'''\n",
    "set_tau takes in as arguments, in order:\n",
    "the G value, the particle you wish to set sigma for, the time lag\n",
    "'''\n",
    "rebx.set_time_lag(sim.G, ps[1], planet_tau)\n",
    "# ps[1].params['sigma'] = planet_sigma\n",
    "# rebx.set_q(sim.G, ps[1], ps[0], planet_q)"
   ]
  },
  {
   "cell_type": "markdown",
   "metadata": {},
   "source": [
    "Some bookkeeping before we begin integrating the system: choosing an integrator, moving to the CoM, and aligning the system to the invariant plane (which aligns the spins as well as the orbits of the bodies)"
   ]
  },
  {
   "cell_type": "code",
   "execution_count": 6,
   "metadata": {},
   "outputs": [],
   "source": [
    "sim.integrator = \"whfast\"\n",
    "sim.dt = sim.particles[1].P/10.1234567 # timestep is a fraction of the orbital period\n",
    "sim.move_to_com()\n",
    "rebx.align_simulation()"
   ]
  },
  {
   "cell_type": "markdown",
   "metadata": {},
   "source": [
    "The next step is mandatory: to track the evolution of the spin axis, you MUST call the function `initialize_spin_ode`. Otherwise the spin axis will remain stationary and you won't see anything interesting!"
   ]
  },
  {
   "cell_type": "code",
   "execution_count": 7,
   "metadata": {},
   "outputs": [],
   "source": [
    "rebx.initialize_spin_ode(sf)"
   ]
  },
  {
   "cell_type": "markdown",
   "metadata": {},
   "source": [
    "Now, we integrate. We'll track the hot Jupiters's spin axis, semimajor axis, and eccentricity."
   ]
  },
  {
   "cell_type": "code",
   "execution_count": null,
   "metadata": {},
   "outputs": [],
   "source": [
    "tmax = 2 * np.pi * 1e4\n",
    "Nout = 1000\n",
    "times = np.linspace(0, tmax, Nout)\n",
    "\n",
    "planet_spin_axis = np.zeros((Nout, 3))\n",
    "planet_a = np.zeros(Nout)\n",
    "planet_e = np.zeros(Nout)\n",
    "\n",
    "for i, t in enumerate(times):\n",
    "    planet_spin_axis[i] = [ps[1].params['spin_sx'], ps[1].params['spin_sy'], ps[1].params['spin_sz']]\n",
    "    planet_a[i] = ps[1].a\n",
    "    planet_e[i] = ps[1].e\n",
    "    \n",
    "    sim.integrate(t)"
   ]
  },
  {
   "cell_type": "markdown",
   "metadata": {},
   "source": [
    "Let's compare this to analytic results. We'll numerically integrate the same initial conditions with the orbit-averaged expressions from Leconte et. al (2010), which is an equivalent framework to ours."
   ]
  },
  {
   "cell_type": "code",
   "execution_count": null,
   "metadata": {},
   "outputs": [],
   "source": [
    "from scipy.integrate import odeint\n",
    "\n",
    "def leconte_analytic(params, t, mstar, rstar, k2_star, dt_star, C_s, mp, rp, k2_p, dt_p, C_p):\n",
    "    '''\n",
    "    Leconte 2010 Eq (2, 6, 10)\n",
    "    Assumes REBOUND units (G=1)\n",
    "    '''\n",
    "    \n",
    "    a, e, omega_p, omega_s, ep_p, ep_s = params\n",
    "    n = np.sqrt((mstar + mp) / a**3)\n",
    "    \n",
    "    n_e = (1 + (15 / 2) * e**2 + (45 / 8) * e**4 + (5 / 16) * e**6) / (1 - e**2)**6\n",
    "    n_a_e = (1 + (31 / 2) * e**2 + (255 / 8) * e**4 + (185 / 16) * e**6 + (25 / 64) * e**8) / (1 -  e**2)**(15 / 2)\n",
    "    n_e_e = (1 + (15 / 4) * e**2 + (15 / 8) * e**4 + (5 / 64) * e**6) / (1 - e**2)**(13 / 2)\n",
    "    omega_e_e = (1 + (3 / 2) * e**2 + (1 / 8) * e**4) / (1 - e**2)**5\n",
    "    omega_e = (1 + 3 * e**2 + (3 / 8) * e**4) / (1 - e**2)**(9 / 2)\n",
    "    \n",
    "    Kp = 3 * k2_p * dt_p * (mp**2 / rp) * (mstar / mp)**2 * (rp / a)**6 * n**2\n",
    "    Kstar = 3 * k2_star * dt_star * (mstar**2 / rstar) * (mp / mstar)**2 * (rstar / a)**6 * n**2\n",
    "    \n",
    "    eta_p = (mp + mstar) / (mp * mstar) * (C_p * omega_p) / (a**2 * n * np.sqrt(1 - e**2))\n",
    "    eta_s = (mp + mstar) / (mp * mstar) * (C_s * omega_s) / (a**2 * n * np.sqrt(1 - e**2))\n",
    "    \n",
    "    da_dt = (4 * a**2 / (mstar * mp)) * (Kp * (n_e * np.cos(ep_p) * omega_p / n - n_a_e)\n",
    "                                       + Kstar * (n_e * np.cos(ep_s) * omega_s / n - n_a_e))\n",
    "    \n",
    "    de_dt = (11 * a * e / (mstar * mp)) * (Kp * (omega_e_e * np.cos(ep_p) * omega_p / n - (18 / 11) * n_e_e)\n",
    "                                         + Kstar * (omega_e_e * np.cos(ep_s) * omega_s / n - (18 / 11) * n_e_e))\n",
    "    \n",
    "    domega_p_dt = -(Kp / (n * C_p)) * ((1 + np.cos(ep_p)**2) * omega_e * omega_p / n - 2 * np.cos(ep_p) * n_e)\n",
    "    domega_s_dt = -(Kstar / (n * C_s)) * ((1 + np.cos(ep_s)**2) * omega_e * omega_s / n - 2 * np.cos(ep_s) * n_e)\n",
    "    \n",
    "    dep_p_dt = np.sin(ep_p) * ((Kp / (n * omega_p * C_p)) * \n",
    "                               ((np.cos(ep_p) - eta_p) * omega_e * omega_p / n - 2 * n_e))\n",
    "    dep_s_dt = np.sin(ep_s) * ((Kstar / (n * omega_s * C_s)) * \n",
    "                               ((np.cos(ep_s) - eta_s) * omega_e * omega_s / n - 2 * n_e))\n",
    "    \n",
    "    return [da_dt, de_dt, domega_p_dt, domega_s_dt, dep_p_dt, dep_s_dt]\n",
    "\n",
    "initial_condition = [ap, ep, 365 / 0.5, 365 / 27, np.radians(30.), np.radians(0)]\n",
    "analytic_solution = odeint(leconte_analytic, initial_condition, times,\n",
    "                              args=(ms, rs, 0.07, 4.11e-9, 0.07 * ms * rs**2,\n",
    "                                    mp, rp, 0.3, 4.11e-7, 0.25 * mp * rp**2))"
   ]
  },
  {
   "cell_type": "markdown",
   "metadata": {},
   "source": [
    "Interpreting these results:"
   ]
  },
  {
   "cell_type": "code",
   "execution_count": null,
   "metadata": {},
   "outputs": [],
   "source": [
    "# Numeric results\n",
    "planet_sz = planet_spin_axis[:,2]\n",
    "planet_spin_mag = np.linalg.norm(planet_spin_axis, axis=1)\n",
    "planet_obliquity = np.degrees(np.arccos(planet_sz / planet_spin_mag))\n",
    "\n",
    "planet_n = np.sqrt((ms + mp) / (planet_a**3))\n",
    "\n",
    "# Analytic results\n",
    "planet_lec_a = analytic_solution[:,0]\n",
    "planet_lec_e = analytic_solution[:,1]\n",
    "planet_lec_n = np.sqrt((ms + mp) / (planet_lec_a**3))\n",
    "planet_lec_spin = analytic_solution[:,2]\n",
    "planet_lec_obliquity = np.degrees(analytic_solution[:,4])"
   ]
  },
  {
   "cell_type": "markdown",
   "metadata": {},
   "source": [
    "Below we have overplotted both the numeric results from our REBOUND simulation, and the analytic results from the Leconte et. al (2010) equations. This reproduces Figure 2 in Lu et. al (2023)."
   ]
  },
  {
   "cell_type": "code",
   "execution_count": null,
   "metadata": {},
   "outputs": [],
   "source": [
    "fig, ax = plt.subplots(2,2,figsize=(10,8))#, sharex=True)\n",
    "ax = ax.ravel()\n",
    "\n",
    "times_rescaled = times / (1000 * 2 * np.pi) # this converts from REBOUND time units to kyr\n",
    "\n",
    "ax[0].plot(times_rescaled, planet_lec_obliquity)\n",
    "ax[0].plot(times_rescaled, planet_obliquity, ls = ':', color = 'red', linewidth=4)\n",
    "ax[0].set_ylabel(r'Obliquity $\\theta [^\\circ]$')\n",
    "\n",
    "ax[1].plot(times_rescaled, planet_lec_spin / planet_lec_n, label = 'Analytic Predictions')\n",
    "ax[1].plot(times_rescaled, planet_spin_mag / planet_n, ls = ':', color = 'red', lw=4, label='Numeric Results')\n",
    "ax[1].set_ylabel(r'Spin Rate $\\Omega / n$')\n",
    "ax[1].legend()\n",
    "\n",
    "ax[2].plot(times_rescaled, planet_lec_a)\n",
    "ax[2].plot(times_rescaled, planet_a, ls = ':', color = 'red', lw=4)\n",
    "ax[2].set_ylabel('Semimajor Axis [AU]')\n",
    "ax[2].set_xlabel('Time (kyr)')\n",
    "\n",
    "ax[3].plot(times_rescaled, planet_lec_e)\n",
    "ax[3].plot(times_rescaled, planet_e, ls = ':', color = 'red', lw=4)\n",
    "ax[3].set_ylabel('Eccentricity')\n",
    "ax[3].set_xlabel('Time (kyr)')"
   ]
  },
  {
   "cell_type": "markdown",
   "metadata": {},
   "source": [
    "Clearly, the numeric and analytic results are in excellent agreement! The only noticable difference is in the eccentricity evolution, in which numeric and analytic results vary by less than 0.03% over the course of the evolution!"
   ]
  },
  {
   "cell_type": "code",
   "execution_count": null,
   "metadata": {},
   "outputs": [],
   "source": []
  }
 ],
 "metadata": {
  "kernelspec": {
   "display_name": "Python 3",
   "language": "python",
   "name": "python3"
  },
  "language_info": {
   "codemirror_mode": {
    "name": "ipython",
    "version": 3
   },
   "file_extension": ".py",
   "mimetype": "text/x-python",
   "name": "python",
   "nbconvert_exporter": "python",
   "pygments_lexer": "ipython3",
   "version": "3.7.4"
  }
 },
 "nbformat": 4,
 "nbformat_minor": 2
}
