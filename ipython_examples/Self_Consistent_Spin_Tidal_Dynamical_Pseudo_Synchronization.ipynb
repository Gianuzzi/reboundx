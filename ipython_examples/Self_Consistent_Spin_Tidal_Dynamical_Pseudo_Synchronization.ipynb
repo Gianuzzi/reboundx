{
 "cells": [
  {
   "cell_type": "markdown",
   "metadata": {},
   "source": [
    "# Pseudo-Synchronization\n",
    "\n",
    "This adds self consistent spin, tidal and dynamical equations of motion in the equilibrium tide model as outlined by Eggleton et. al (1998). In this simple example we confirm the prediction of pseudo-synchronization for a fiducial hot Jupiter. This example can be seen in Millholland & Laughlin (2019) and is Figure 2 in Lu et al. (2023)."
   ]
  },
  {
   "cell_type": "code",
   "execution_count": 1,
   "metadata": {},
   "outputs": [],
   "source": [
    "import rebound\n",
    "import reboundx\n",
    "import numpy as np\n",
    "import matplotlib.pyplot as plt\n",
    "%matplotlib inline\n",
    "from tqdm import tqdm"
   ]
  },
  {
   "cell_type": "markdown",
   "metadata": {},
   "source": [
    "We'll set up the system in the traditional REBOUND framework first. We set up a fiducial hot Jupiter in a near-circular orbit around a solar-type star"
   ]
  },
  {
   "cell_type": "code",
   "execution_count": 7,
   "metadata": {},
   "outputs": [],
   "source": [
    "sim = rebound.Simulation()\n",
    "# Star\n",
    "ms = 1\n",
    "rs = 0.00465\n",
    "sim.add(m = ms, r = rs)\n",
    "\n",
    "# Planet\n",
    "mp = 9.55e-4\n",
    "rp = 4.676e-4\n",
    "ap = 0.04072\n",
    "ep = 0.01\n",
    "sim.add(m = mp, r = rp, a = ap, e = ep)\n",
    "ps = sim.particles"
   ]
  },
  {
   "cell_type": "code",
   "execution_count": 4,
   "metadata": {},
   "outputs": [
    {
     "data": {
      "text/plain": [
       "8.213048308806583e-09"
      ]
     },
     "execution_count": 4,
     "metadata": {},
     "output_type": "execute_result"
    }
   ],
   "source": [
    "1 / (ps[1].n * 1e6)"
   ]
  },
  {
   "cell_type": "markdown",
   "metadata": {},
   "source": [
    "Now, we add the extra parameters necessary to calculate the spin and tidal effects. Let's first set the Love number, moment of inertia, and spin vector. In this simulation both bodies have structure."
   ]
  },
  {
   "cell_type": "code",
   "execution_count": 3,
   "metadata": {},
   "outputs": [],
   "source": [
    "rebx = reboundx.Extras(sim)\n",
    "sf = rebx.load_force(\"spin\")\n",
    "rebx.add_force(sf)\n",
    "\n",
    "# Star parameters\n",
    "ps[0].params['k2'] = 0.07\n",
    "ps[0].params['moi'] = 0.07 * ms * rs**2\n",
    "# The magnitude of the spin axis is the spin frequency. We initialize the star's obliquity as 0\n",
    "spin_period_star = (27 / 365) * 2 * np.pi # 27 days in default REBOUND units\n",
    "spin_mag_star = 2 * np.pi / spin_period_star\n",
    "ps[0].params['spin_sx'] = 0 \n",
    "ps[0].params['spin_sy'] = 0\n",
    "ps[0].params['spin_sz'] = spin_mag_star\n",
    "\n",
    "# Planet parameters\n",
    "ps[1].params['k2'] = 0.3\n",
    "ps[1].params['moi'] = 0.25 * mp * rp**2\n",
    "# Initialize the planet's obliquity to 30 degrees\n",
    "spin_period_planet = (0.5 / 365) * 2 * np.pi # 0.5 days in default REBOUND units\n",
    "spin_mag_planet = 2 * np.pi / spin_period_planet\n",
    "obliquity_planet = np.radians(30)\n",
    "ps[1].params['spin_sx'] = spin_mag_planet * np.sin(obliquity_planet)\n",
    "ps[1].params['spin_sy'] = spin_mag_planet * np.sin(obliquity_planet)\n",
    "ps[1].params['spin_sz'] = spin_mag_planet * np.cos(obliquity_planet)"
   ]
  },
  {
   "cell_type": "markdown",
   "metadata": {},
   "source": [
    "We saved the tidal dissipation parameter $\\sigma$ for last because there are a few different ways to set it. $\\sigma$ may be set traditionally, but this parameter is not widely adopted. We've therefore offered two helper functions that relate it to two more traditionally used quantities: the time lag $\\tau$ and the tidal quality factor $Q$. See Section 2 of Lu et. al (2023) for when these approximations are valid to use.\n",
    "\n",
    "While setting $\\sigma$ traditionally has no restrictions, to use the helper functions all other relevant quantities must be set already. Therefore, call these LAST.\n",
    "\n",
    "UNFORTUNATELY HELPER FUNCTIONS NOT WORKING IN PYTHON YET..."
   ]
  },
  {
   "cell_type": "code",
   "execution_count": 4,
   "metadata": {},
   "outputs": [],
   "source": [
    "# Setting sigma for the star: all three of these functions do the same thing\n",
    "ps[0].params['sigma'] = 3.598e4\n",
    "# rebx.set_q(sim.G, ps[0], ps[1], 1e6)\n",
    "# rebx.set_time_lag(sim.G, ps[0], 1889)\n",
    "\n",
    "ps[1].params['sigma'] = 8.164e10\n",
    "# rebx.set_q(sim.G, ps[1], ps[0], 1e4)\n",
    "# rebx.set_time_lag(sim.G, ps[1], 3.422e-7)"
   ]
  },
  {
   "cell_type": "markdown",
   "metadata": {},
   "source": [
    "Some bookkeeping before we begin integrating the system: choosing an integrator, moving to the CoM, and aligning the system to the invariant plane."
   ]
  },
  {
   "cell_type": "code",
   "execution_count": null,
   "metadata": {},
   "outputs": [],
   "source": [
    "sim.integrator = \"whfast\"\n",
    "sim.dt = 1e-3\n",
    "sim.move_to_com()\n",
    "rebx.align_simulation()"
   ]
  },
  {
   "cell_type": "markdown",
   "metadata": {},
   "source": [
    "The next step is mandatory: to track the evolution of the spin axis, you MUST call the function `initialize_spin_ode`. Otherwise the spin axis will remain stationary and you won't see anything interesting!\n",
    "\n",
    "DOESN'T WORK YET. CAN\"T MANUALLY SET EITHER B/C CAN'T SET PRE/POST TIMESTEP"
   ]
  },
  {
   "cell_type": "code",
   "execution_count": 6,
   "metadata": {},
   "outputs": [],
   "source": [
    "rebx.initialize_spin_ode(sim, sf)"
   ]
  },
  {
   "cell_type": "markdown",
   "metadata": {},
   "source": [
    "Now, we integrate. We'll track the hot Jupiters's spin axis, semimajor axis, and eccentricity."
   ]
  },
  {
   "cell_type": "code",
   "execution_count": 7,
   "metadata": {},
   "outputs": [
    {
     "name": "stderr",
     "output_type": "stream",
     "text": [
      "0it [00:00, ?it/s]/Users/tigerlu/Documents/School/mardling/rebound/rebound/simulation.py:724: RuntimeWarning: Spin axes are not being evolved. Call rebx_spin_initialize_ode to evolve\n",
      "\n",
      "  warnings.warn(msg[1:], RuntimeWarning)\n",
      "100000it [06:40, 249.66it/s]\n"
     ]
    }
   ],
   "source": [
    "tmax = 2 * np.pi * 1e5\n",
    "Nout = 100000\n",
    "times = np.linspace(0, tmax, Nout)\n",
    "\n",
    "hj_spin_axis = np.zeros((Nout, 3))\n",
    "hj_orbit = np.zeros((Nout, 2))\n",
    "\n",
    "for i, t in tqdm(enumerate(times)):\n",
    "    hj_spin_axis[i] = [ps[1].params['spin_sx'], ps[1].params['spin_sy'], ps[1].params['spin_sz']]\n",
    "    hj_orbit = [ps[1].a, ps[1].e]\n",
    "    \n",
    "    sim.integrate(t)"
   ]
  },
  {
   "cell_type": "markdown",
   "metadata": {},
   "source": [
    "Let's compare this to analytic results. We'll numerically integrate the same initial conditions with the orbit-averaged expressions from Leconte et. al (2010), which is an equivalent framework to ours."
   ]
  },
  {
   "cell_type": "code",
   "execution_count": 10,
   "metadata": {},
   "outputs": [
    {
     "name": "stdout",
     "output_type": "stream",
     "text": [
      "121.75747206158916\n",
      "8.213048308806587e-07\n"
     ]
    },
    {
     "ename": "NameError",
     "evalue": "name 'lec_der' is not defined",
     "output_type": "error",
     "traceback": [
      "\u001b[0;31m---------------------------------------------------------------------------\u001b[0m",
      "\u001b[0;31mNameError\u001b[0m                                 Traceback (most recent call last)",
      "\u001b[0;32m<ipython-input-10-e6bbc8d48d62>\u001b[0m in \u001b[0;36m<module>\u001b[0;34m\u001b[0m\n\u001b[1;32m     43\u001b[0m \u001b[0mprint\u001b[0m\u001b[0;34m(\u001b[0m\u001b[0;36m1\u001b[0m \u001b[0;34m/\u001b[0m \u001b[0;34m(\u001b[0m\u001b[0mmm\u001b[0m \u001b[0;34m*\u001b[0m \u001b[0;36m10000.\u001b[0m\u001b[0;34m)\u001b[0m\u001b[0;34m)\u001b[0m\u001b[0;34m\u001b[0m\u001b[0;34m\u001b[0m\u001b[0m\n\u001b[1;32m     44\u001b[0m \u001b[0mt\u001b[0m \u001b[0;34m=\u001b[0m \u001b[0mnp\u001b[0m\u001b[0;34m.\u001b[0m\u001b[0mlinspace\u001b[0m\u001b[0;34m(\u001b[0m\u001b[0;36m0\u001b[0m\u001b[0;34m,\u001b[0m \u001b[0;36m2\u001b[0m \u001b[0;34m*\u001b[0m \u001b[0mnp\u001b[0m\u001b[0;34m.\u001b[0m\u001b[0mpi\u001b[0m \u001b[0;34m*\u001b[0m \u001b[0;36m100000\u001b[0m\u001b[0;34m,\u001b[0m \u001b[0;36m100000\u001b[0m\u001b[0;34m)\u001b[0m\u001b[0;34m\u001b[0m\u001b[0;34m\u001b[0m\u001b[0m\n\u001b[0;32m---> 45\u001b[0;31m analytic_solution = odeint(lec_der, initial_condition, t,\n\u001b[0m\u001b[1;32m     46\u001b[0m                               args=(1., 0.00465, 0.07, 1 / (mm * 1000000.), 0.07 * 0.00465**2,\n\u001b[1;32m     47\u001b[0m                                     9.55e-4, 4.676e-4, 0.3, 1 / (mm * 10000.), 0.25 * 9.55e-4 * (4.676e-4)**2))\n",
      "\u001b[0;31mNameError\u001b[0m: name 'lec_der' is not defined"
     ]
    }
   ],
   "source": [
    "from scipy.integrate import odeint\n",
    "\n",
    "def leconte_analytic(params, t, mstar, rstar, k2_star, dt_star, C_s, mp, rp, k2_p, dt_p, C_p):\n",
    "    '''\n",
    "    Leconte 2010 Eq (2, 6, 10)\n",
    "    Assumes REBOUND units and G=1\n",
    "    '''\n",
    "    \n",
    "    a, e, omega_p, omega_s, ep_p, ep_s = params\n",
    "    n = np.sqrt((mstar + mp) / a**3)\n",
    "    \n",
    "    n_e = (1 + (15 / 2) * e**2 + (45 / 8) * e**4 + (5 / 16) * e**6) / (1 - e**2)**6\n",
    "    n_a_e = (1 + (31 / 2) * e**2 + (255 / 8) * e**4 + (185 / 16) * e**6 + (25 / 64) * e**8) / (1 -  e**2)**(15 / 2)\n",
    "    n_e_e = (1 + (15 / 4) * e**2 + (15 / 8) * e**4 + (5 / 64) * e**6) / (1 - e**2)**(13 / 2)\n",
    "    omega_e_e = (1 + (3 / 2) * e**2 + (1 / 8) * e**4) / (1 - e**2)**5\n",
    "    omega_e = (1 + 3 * e**2 + (3 / 8) * e**4) / (1 - e**2)**(9 / 2)\n",
    "    \n",
    "    Kp = 1.5 * k2_p * dt_p * (mp**2 / rp) * (mstar / mp)**2 * (rp / a)**6 * n**2\n",
    "    Kstar = 1.5 * k2_star * dt_star * (mstar**2 / rstar) * (mp / mstar)**2 * (rstar / a)**6 * n**2\n",
    "    \n",
    "    eta_p = (mp + mstar) / (mp * mstar) * (C_p * omega_p) / (a**2 * n * np.sqrt(1 - e**2))\n",
    "    eta_s = (mp + mstar) / (mp * mstar) * (C_s * omega_s) / (a**2 * n * np.sqrt(1 - e**2))\n",
    "    \n",
    "    da_dt = (4 * a**2 / (mstar * mp)) * (Kp * (n_e * np.cos(ep_p) * omega_p / n - n_a_e)\n",
    "                                       + Kstar * (n_e * np.cos(ep_s) * omega_s / n - n_a_e))\n",
    "    \n",
    "    de_dt = (11 * a * e / (mstar * mp)) * (Kp * (omega_e_e * np.cos(ep_p) * omega_p / n - (18 / 11) * n_e_e)\n",
    "                                         + Kstar * (omega_e_e * np.cos(ep_s) * omega_s / n - (18 / 11) * n_e_e))\n",
    "    \n",
    "    domega_p_dt = -(Kp / (n * C_p)) * ((1 + np.cos(ep_p)**2) * omega_e * omega_p / n - 2 * np.cos(ep_p) * n_e)\n",
    "    domega_s_dt = -(Kstar / (n * C_s)) * ((1 + np.cos(ep_s)**2) * omega_e * omega_s / n - 2 * np.cos(ep_s) * n_e)\n",
    "    \n",
    "    dep_p_dt = np.sin(ep_p) * ((Kp / (n * omega_p * C_p)) * \n",
    "                               ((np.cos(ep_p) - eta_p) * omega_e * omega_p / n - 2 * n_e))\n",
    "    dep_s_dt = np.sin(ep_s) * ((Kstar / (n * omega_s * C_s)) * \n",
    "                               ((np.cos(ep_s) - eta_s) * omega_e * omega_s / n - 2 * n_e))\n",
    "    \n",
    "    return [da_dt, de_dt, domega_p_dt, domega_s_dt, dep_p_dt, dep_s_dt]\n",
    "\n",
    "initial_condition = [0.04072, 0.01, 365 / 0.5, 365 / 27, np.radians(29.99488), np.radians(0)]\n",
    "mm = np.sqrt((1 + 9.55e-4) / (0.04072**3))\n",
    "print(mm)\n",
    "print(1 / (mm * 10000.))\n",
    "t = np.linspace(0, 2 * np.pi * 100000, 100000)\n",
    "analytic_solution = odeint(lec_der, initial_condition, t,\n",
    "                              args=(1., 0.00465, 0.07, 1 / (mm * 1000000.), 0.07 * 0.00465**2,\n",
    "                                    9.55e-4, 4.676e-4, 0.3, 1 / (mm * 10000.), 0.25 * 9.55e-4 * (4.676e-4)**2))"
   ]
  },
  {
   "cell_type": "code",
   "execution_count": 12,
   "metadata": {},
   "outputs": [
    {
     "data": {
      "text/plain": [
       "4.106524154403292e-07"
      ]
     },
     "execution_count": 12,
     "metadata": {},
     "output_type": "execute_result"
    }
   ],
   "source": [
    "(81643074533.4855 * 3 * rp**5 * 0.3) / (4 * sim.G)"
   ]
  },
  {
   "cell_type": "code",
   "execution_count": 16,
   "metadata": {},
   "outputs": [
    {
     "data": {
      "text/plain": [
       "8.213048308806582e-07"
      ]
     },
     "execution_count": 16,
     "metadata": {},
     "output_type": "execute_result"
    }
   ],
   "source": [
    "1 / (ps[1].n * 1e4)"
   ]
  },
  {
   "cell_type": "code",
   "execution_count": null,
   "metadata": {},
   "outputs": [],
   "source": []
  }
 ],
 "metadata": {
  "kernelspec": {
   "display_name": "Python 3",
   "language": "python",
   "name": "python3"
  },
  "language_info": {
   "codemirror_mode": {
    "name": "ipython",
    "version": 3
   },
   "file_extension": ".py",
   "mimetype": "text/x-python",
   "name": "python",
   "nbconvert_exporter": "python",
   "pygments_lexer": "ipython3",
   "version": "3.7.4"
  }
 },
 "nbformat": 4,
 "nbformat_minor": 2
}
